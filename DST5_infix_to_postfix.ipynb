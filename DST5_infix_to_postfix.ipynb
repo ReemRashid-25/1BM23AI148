{
  "nbformat": 4,
  "nbformat_minor": 0,
  "metadata": {
    "colab": {
      "provenance": [],
      "include_colab_link": true
    },
    "kernelspec": {
      "name": "python3",
      "display_name": "Python 3"
    },
    "language_info": {
      "name": "python"
    }
  },
  "cells": [
    {
      "cell_type": "markdown",
      "metadata": {
        "id": "view-in-github",
        "colab_type": "text"
      },
      "source": [
        "<a href=\"https://colab.research.google.com/github/ReemRashid-25/1BM23AI148/blob/main/DST5_infix_to_postfix.ipynb\" target=\"_parent\"><img src=\"https://colab.research.google.com/assets/colab-badge.svg\" alt=\"Open In Colab\"/></a>"
      ]
    },
    {
      "cell_type": "code",
      "source": [
        "def is_balanced(s):\n",
        "    stack = []\n",
        "    bracket_map = {')': '(', '}': '{', ']': '['}\n",
        "\n",
        "    for char in s:\n",
        "        if char in bracket_map.values():\n",
        "            stack.append(char)\n",
        "        elif char in bracket_map.keys():\n",
        "            if not stack or stack.pop() != bracket_map[char]:\n",
        "                return \"NO\"\n",
        "\n",
        "    return \"YES\" if not stack else \"NO\"\n",
        "\n",
        "if __name__ == \"__main__\":\n",
        "    test_cases = [\n",
        "        \"{[()]}\",\n",
        "        \"{[(])}\",\n",
        "        \"{{[[(())]]}}\"\n",
        "    ]\n",
        "\n",
        "    for s in test_cases:\n",
        "        print(is_balanced(s))\n"
      ],
      "metadata": {
        "id": "aHVWUbw9ubSL",
        "outputId": "8e4a95de-48bf-4b0b-8962-814674bfa4e1",
        "colab": {
          "base_uri": "https://localhost:8080/"
        }
      },
      "execution_count": 2,
      "outputs": [
        {
          "output_type": "stream",
          "name": "stdout",
          "text": [
            "YES\n",
            "NO\n",
            "YES\n"
          ]
        }
      ]
    },
    {
      "cell_type": "code",
      "source": [
        "class MyQueue:\n",
        "    def __init__(self):\n",
        "        self.stack_in = []\n",
        "        self.stack_out = []\n",
        "\n",
        "    def enqueue(self, value):\n",
        "        self.stack_in.append(value)\n",
        "\n",
        "    def dequeue(self):\n",
        "        self._shift_stacks()\n",
        "        if self.stack_out:\n",
        "            return self.stack_out.pop()\n",
        "\n",
        "    def peek(self):\n",
        "        self._shift_stacks()\n",
        "        if self.stack_out:\n",
        "            return self.stack_out[-1]\n",
        "\n",
        "    def _shift_stacks(self):\n",
        "        if not self.stack_out:\n",
        "            while self.stack_in:\n",
        "                self.stack_out.append(self.stack_in.pop())\n",
        "\n",
        "if __name__ == \"__main__\":\n",
        "    commands = [\n",
        "        \"1 42\",\n",
        "        \"1 14\",\n",
        "        \"3\",\n",
        "        \"1 28\",\n",
        "        \"3\",\n",
        "        \"1 60\",\n",
        "        \"1 78\",\n",
        "        \"2\",\n",
        "        \"2\",\n",
        "        \"3\"\n",
        "    ]\n",
        "\n",
        "    queue = MyQueue()\n",
        "    for command in commands:\n",
        "        parts = command.split()\n",
        "        if parts[0] == \"1\":\n",
        "            queue.enqueue(int(parts[1]))\n",
        "        elif parts[0] == \"2\":\n",
        "            queue.dequeue()\n",
        "        elif parts[0] == \"3\":\n",
        "            print(queue.peek())\n"
      ],
      "metadata": {
        "id": "3kdPubxIujQ5",
        "outputId": "bc0746a6-0fd8-484c-8788-f7c87a6d7bb7",
        "colab": {
          "base_uri": "https://localhost:8080/"
        }
      },
      "execution_count": 3,
      "outputs": [
        {
          "output_type": "stream",
          "name": "stdout",
          "text": [
            "42\n",
            "42\n",
            "28\n"
          ]
        }
      ]
    },
    {
      "cell_type": "code",
      "source": [
        "def two_stacks(max_sum, a, b):\n",
        "    current_sum = 0\n",
        "    count = 0\n",
        "    i = 0\n",
        "\n",
        "    while i < len(a) and current_sum + a[i] <= max_sum:\n",
        "        current_sum += a[i]\n",
        "        i += 1\n",
        "\n",
        "    count = i\n",
        "    j = 0\n",
        "\n",
        "    while j < len(b) and i >= 0:\n",
        "        current_sum += b[j]\n",
        "        j += 1\n",
        "        while current_sum > max_sum and i > 0:\n",
        "            i -= 1\n",
        "            current_sum -= a[i]\n",
        "        if current_sum <= max_sum:\n",
        "            count = max(count, i + j)\n",
        "\n",
        "    return count\n",
        "\n",
        "if __name__ == \"__main__\":\n",
        "    test_cases = [\n",
        "        {\n",
        "            \"max_sum\": 10,\n",
        "            \"a\": [4, 2, 4, 6, 1],\n",
        "            \"b\": [2, 1, 8, 5]\n",
        "        }\n",
        "    ]\n",
        "\n",
        "    for case in test_cases:\n",
        "        print(two_stacks(case[\"max_sum\"], case[\"a\"], case[\"b\"]))\n"
      ],
      "metadata": {
        "id": "LRq1n_2kvFxk",
        "outputId": "81999ba1-b379-4595-96c4-fa53382abf42",
        "colab": {
          "base_uri": "https://localhost:8080/"
        }
      },
      "execution_count": 4,
      "outputs": [
        {
          "output_type": "stream",
          "name": "stdout",
          "text": [
            "4\n"
          ]
        }
      ]
    }
  ]
}