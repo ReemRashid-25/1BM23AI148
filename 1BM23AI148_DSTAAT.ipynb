{
  "nbformat": 4,
  "nbformat_minor": 0,
  "metadata": {
    "colab": {
      "provenance": [],
      "authorship_tag": "ABX9TyNsn3DmAbHFgqM5+pmd9LA1",
      "include_colab_link": true
    },
    "kernelspec": {
      "name": "python3",
      "display_name": "Python 3"
    },
    "language_info": {
      "name": "python"
    }
  },
  "cells": [
    {
      "cell_type": "markdown",
      "metadata": {
        "id": "view-in-github",
        "colab_type": "text"
      },
      "source": [
        "<a href=\"https://colab.research.google.com/github/ReemRashid-25/1BM23AI148/blob/main/1BM23AI148_DSTAAT.ipynb\" target=\"_parent\"><img src=\"https://colab.research.google.com/assets/colab-badge.svg\" alt=\"Open In Colab\"/></a>"
      ]
    },
    {
      "cell_type": "code",
      "execution_count": 6,
      "metadata": {
        "colab": {
          "base_uri": "https://localhost:8080/"
        },
        "id": "s7eCSHsqwITU",
        "outputId": "202bae53-83be-4097-dbac-d93abccecd2a"
      },
      "outputs": [
        {
          "output_type": "stream",
          "name": "stdout",
          "text": [
            "YES\n",
            "NO\n",
            "YES\n"
          ]
        }
      ],
      "source": [
        "#BALANCED BRACKET\n",
        "def is_balanced(s):\n",
        "    stack = []\n",
        "    bracket_map = {')': '(', '}': '{', ']': '['}\n",
        "\n",
        "    for char in s:\n",
        "        if char in bracket_map.values():\n",
        "            stack.append(char)\n",
        "        elif char in bracket_map.keys():\n",
        "            if not stack or stack.pop() != bracket_map[char]:\n",
        "                return \"NO\"\n",
        "\n",
        "    return \"YES\" if not stack else \"NO\"\n",
        "\n",
        "if __name__ == \"__main__\":\n",
        "    test_cases = [\n",
        "        \"{[()]}\",\n",
        "        \"{[(])}\",\n",
        "        \"{{[[(())]]}}\"\n",
        "    ]\n",
        "\n",
        "    for s in test_cases:\n",
        "        print(is_balanced(s))\n"
      ]
    },
    {
      "cell_type": "code",
      "source": [
        "#QUEUE USING TWO STACKS\n",
        "class MyQueue:\n",
        "    def __init__(self):\n",
        "        self.stack_in = []\n",
        "        self.stack_out = []\n",
        "\n",
        "    def enqueue(self, value):\n",
        "        self.stack_in.append(value)\n",
        "\n",
        "    def dequeue(self):\n",
        "        self._shift_stacks()\n",
        "        if self.stack_out:\n",
        "            return self.stack_out.pop()\n",
        "\n",
        "    def peek(self):\n",
        "        self._shift_stacks()\n",
        "        if self.stack_out:\n",
        "            return self.stack_out[-1]\n",
        "\n",
        "    def _shift_stacks(self):\n",
        "        if not self.stack_out:\n",
        "            while self.stack_in:\n",
        "                self.stack_out.append(self.stack_in.pop())\n",
        "\n",
        "if __name__ == \"__main__\":\n",
        "    commands = [\n",
        "        \"1 42\",\n",
        "        \"1 14\",\n",
        "        \"3\",\n",
        "        \"1 28\",\n",
        "        \"3\",\n",
        "        \"1 60\",\n",
        "        \"1 78\",\n",
        "        \"2\",\n",
        "        \"2\",\n",
        "        \"3\"\n",
        "    ]\n",
        "\n",
        "    queue = MyQueue()\n",
        "    for command in commands:\n",
        "        parts = command.split()\n",
        "        if parts[0] == \"1\":\n",
        "            queue.enqueue(int(parts[1]))\n",
        "        elif parts[0] == \"2\":\n",
        "            queue.dequeue()\n",
        "        elif parts[0] == \"3\":\n",
        "            print(queue.peek())\n"
      ],
      "metadata": {
        "colab": {
          "base_uri": "https://localhost:8080/"
        },
        "id": "PwhhYblywXPF",
        "outputId": "f4afb48f-5bee-4d7d-d75f-d64bf1e0d18e"
      },
      "execution_count": 5,
      "outputs": [
        {
          "output_type": "stream",
          "name": "stdout",
          "text": [
            "42\n",
            "42\n",
            "28\n"
          ]
        }
      ]
    },
    {
      "cell_type": "code",
      "source": [
        "#GAME OF TWO STACKS\n",
        "def two_stacks(max_sum, a, b):\n",
        "    current_sum = 0\n",
        "    count = 0\n",
        "    i = 0\n",
        "\n",
        "    while i < len(a) and current_sum + a[i] <= max_sum:\n",
        "        current_sum += a[i]\n",
        "        i += 1\n",
        "\n",
        "    count = i\n",
        "    j = 0\n",
        "\n",
        "    while j < len(b) and i >= 0:\n",
        "        current_sum += b[j]\n",
        "        j += 1\n",
        "        while current_sum > max_sum and i > 0:\n",
        "            i -= 1\n",
        "            current_sum -= a[i]\n",
        "        if current_sum <= max_sum:\n",
        "            count = max(count, i + j)\n",
        "\n",
        "    return count\n",
        "\n",
        "if __name__ == \"__main__\":\n",
        "    test_cases = [\n",
        "        {\n",
        "            \"max_sum\": 10,\n",
        "            \"a\": [4, 2, 4, 6, 1],\n",
        "            \"b\": [2, 1, 8, 5]\n",
        "        }\n",
        "    ]\n",
        "    for case in test_cases:\n",
        "        print(two_stacks(case[\"max_sum\"], case[\"a\"], case[\"b\"]))"
      ],
      "metadata": {
        "colab": {
          "base_uri": "https://localhost:8080/"
        },
        "id": "af4XzOHpwdOz",
        "outputId": "4205ae1b-1c2a-419e-9a40-c1b5af57c160"
      },
      "execution_count": 8,
      "outputs": [
        {
          "output_type": "stream",
          "name": "stdout",
          "text": [
            "4\n"
          ]
        }
      ]
    }
  ]
}